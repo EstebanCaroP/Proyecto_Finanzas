{
 "cells": [
  {
   "cell_type": "markdown",
   "metadata": {},
   "source": [
    "## Librerías requeridas ##"
   ]
  },
  {
   "cell_type": "code",
   "execution_count": 12,
   "metadata": {},
   "outputs": [],
   "source": [
    "import pandas as pd\n",
    "import numpy as np\n",
    "import joblib\n",
    "import seaborn as sns\n",
    "import matplotlib.pyplot as plt\n",
    "import plotly.graph_objects as go\n",
    "from plotly.subplots import make_subplots"
   ]
  },
  {
   "cell_type": "markdown",
   "metadata": {},
   "source": [
    "## Exportación de modelos y resultados modelo ##"
   ]
  },
  {
   "cell_type": "code",
   "execution_count": 22,
   "metadata": {},
   "outputs": [],
   "source": [
    "modelo = joblib.load('Salidas\\\\rf_final.pkl')\n",
    "predicciones = joblib.load('Salidas\\\\df_grouped.pkl')"
   ]
  },
  {
   "cell_type": "markdown",
   "metadata": {},
   "source": [
    "## Resultados a Excel"
   ]
  },
  {
   "cell_type": "code",
   "execution_count": 29,
   "metadata": {},
   "outputs": [],
   "source": [
    "df = pd.DataFrame(predicciones)\n",
    "df.rename(columns={'pred':'Prima pura'}, inplace = True)\n",
    "Utilidad = 0.04\n",
    "Comision = 0.11\n",
    "Gastos_Admon = 0.11\n",
    "df['Prima comercial'] = df['Prima pura']/(1-(Utilidad + Comision + Gastos_Admon))"
   ]
  },
  {
   "cell_type": "code",
   "execution_count": 30,
   "metadata": {},
   "outputs": [
    {
     "data": {
      "text/html": [
       "<div>\n",
       "<style scoped>\n",
       "    .dataframe tbody tr th:only-of-type {\n",
       "        vertical-align: middle;\n",
       "    }\n",
       "\n",
       "    .dataframe tbody tr th {\n",
       "        vertical-align: top;\n",
       "    }\n",
       "\n",
       "    .dataframe thead th {\n",
       "        text-align: right;\n",
       "    }\n",
       "</style>\n",
       "<table border=\"1\" class=\"dataframe\">\n",
       "  <thead>\n",
       "    <tr style=\"text-align: right;\">\n",
       "      <th></th>\n",
       "      <th>Asegurado_Id</th>\n",
       "      <th>Prima pura</th>\n",
       "      <th>Prima comercial</th>\n",
       "    </tr>\n",
       "  </thead>\n",
       "  <tbody>\n",
       "    <tr>\n",
       "      <th>0</th>\n",
       "      <td>738288</td>\n",
       "      <td>9.652148e+06</td>\n",
       "      <td>1.304344e+07</td>\n",
       "    </tr>\n",
       "    <tr>\n",
       "      <th>1</th>\n",
       "      <td>738789</td>\n",
       "      <td>3.199691e+06</td>\n",
       "      <td>4.323906e+06</td>\n",
       "    </tr>\n",
       "    <tr>\n",
       "      <th>2</th>\n",
       "      <td>739668</td>\n",
       "      <td>1.900699e+06</td>\n",
       "      <td>2.568512e+06</td>\n",
       "    </tr>\n",
       "    <tr>\n",
       "      <th>3</th>\n",
       "      <td>741119</td>\n",
       "      <td>5.221846e+06</td>\n",
       "      <td>7.056549e+06</td>\n",
       "    </tr>\n",
       "    <tr>\n",
       "      <th>4</th>\n",
       "      <td>758018</td>\n",
       "      <td>4.308834e+06</td>\n",
       "      <td>5.822748e+06</td>\n",
       "    </tr>\n",
       "    <tr>\n",
       "      <th>...</th>\n",
       "      <td>...</td>\n",
       "      <td>...</td>\n",
       "      <td>...</td>\n",
       "    </tr>\n",
       "    <tr>\n",
       "      <th>5823</th>\n",
       "      <td>56166287</td>\n",
       "      <td>4.003340e+06</td>\n",
       "      <td>5.409918e+06</td>\n",
       "    </tr>\n",
       "    <tr>\n",
       "      <th>5824</th>\n",
       "      <td>56895453</td>\n",
       "      <td>5.976883e+06</td>\n",
       "      <td>8.076869e+06</td>\n",
       "    </tr>\n",
       "    <tr>\n",
       "      <th>5825</th>\n",
       "      <td>57252549</td>\n",
       "      <td>7.719042e+06</td>\n",
       "      <td>1.043114e+07</td>\n",
       "    </tr>\n",
       "    <tr>\n",
       "      <th>5826</th>\n",
       "      <td>57939875</td>\n",
       "      <td>1.909612e+06</td>\n",
       "      <td>2.580557e+06</td>\n",
       "    </tr>\n",
       "    <tr>\n",
       "      <th>5827</th>\n",
       "      <td>58066212</td>\n",
       "      <td>3.278794e+06</td>\n",
       "      <td>4.430802e+06</td>\n",
       "    </tr>\n",
       "  </tbody>\n",
       "</table>\n",
       "<p>5828 rows × 3 columns</p>\n",
       "</div>"
      ],
      "text/plain": [
       "      Asegurado_Id    Prima pura  Prima comercial\n",
       "0           738288  9.652148e+06     1.304344e+07\n",
       "1           738789  3.199691e+06     4.323906e+06\n",
       "2           739668  1.900699e+06     2.568512e+06\n",
       "3           741119  5.221846e+06     7.056549e+06\n",
       "4           758018  4.308834e+06     5.822748e+06\n",
       "...            ...           ...              ...\n",
       "5823      56166287  4.003340e+06     5.409918e+06\n",
       "5824      56895453  5.976883e+06     8.076869e+06\n",
       "5825      57252549  7.719042e+06     1.043114e+07\n",
       "5826      57939875  1.909612e+06     2.580557e+06\n",
       "5827      58066212  3.278794e+06     4.430802e+06\n",
       "\n",
       "[5828 rows x 3 columns]"
      ]
     },
     "execution_count": 30,
     "metadata": {},
     "output_type": "execute_result"
    }
   ],
   "source": [
    "df"
   ]
  },
  {
   "cell_type": "code",
   "execution_count": 31,
   "metadata": {},
   "outputs": [],
   "source": [
    "df.to_excel('Despliegue\\\\resultados.xlsx', index=False)\n"
   ]
  }
 ],
 "metadata": {
  "kernelspec": {
   "display_name": "Python 3",
   "language": "python",
   "name": "python3"
  },
  "language_info": {
   "codemirror_mode": {
    "name": "ipython",
    "version": 3
   },
   "file_extension": ".py",
   "mimetype": "text/x-python",
   "name": "python",
   "nbconvert_exporter": "python",
   "pygments_lexer": "ipython3",
   "version": "3.11.7"
  }
 },
 "nbformat": 4,
 "nbformat_minor": 2
}
