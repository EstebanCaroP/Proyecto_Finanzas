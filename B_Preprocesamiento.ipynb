{
 "cells": [
  {
   "cell_type": "markdown",
   "metadata": {},
   "source": [
    "## Análisis de los datos inciales"
   ]
  },
  {
   "cell_type": "code",
   "execution_count": 36,
   "metadata": {},
   "outputs": [],
   "source": [
    "# Librerias necesarias \n",
    "import pandas as pd \n",
    "import seaborn as sns \n",
    "import matplotlib.pyplot as plt"
   ]
  },
  {
   "cell_type": "code",
   "execution_count": 2,
   "metadata": {},
   "outputs": [],
   "source": [
    "# Leer los datos\n",
    "expuestos = pd.read_csv('Data\\BD_Expuestos.txt', sep = '\\s+', encoding = 'latin-1')\n",
    "sociodemograficas = pd.read_csv('Data\\BD_Sociodemograficas.txt', sep = '\\s+', encoding = 'latin-1')\n",
    "siniestros = pd.read_csv('Data\\DB_Siniestros.txt', sep = ',', encoding = 'latin-1')"
   ]
  },
  {
   "cell_type": "code",
   "execution_count": 3,
   "metadata": {},
   "outputs": [
    {
     "data": {
      "text/plain": [
       "'__________________________________________________________________________________________________________________________________'"
      ]
     },
     "metadata": {},
     "output_type": "display_data"
    },
    {
     "data": {
      "text/plain": [
       "'                             Base de datos Expuestos                             '"
      ]
     },
     "metadata": {},
     "output_type": "display_data"
    },
    {
     "data": {
      "text/html": [
       "<div>\n",
       "<style scoped>\n",
       "    .dataframe tbody tr th:only-of-type {\n",
       "        vertical-align: middle;\n",
       "    }\n",
       "\n",
       "    .dataframe tbody tr th {\n",
       "        vertical-align: top;\n",
       "    }\n",
       "\n",
       "    .dataframe thead th {\n",
       "        text-align: right;\n",
       "    }\n",
       "</style>\n",
       "<table border=\"1\" class=\"dataframe\">\n",
       "  <thead>\n",
       "    <tr style=\"text-align: right;\">\n",
       "      <th></th>\n",
       "      <th>Asegurado_Id</th>\n",
       "      <th>Poliza_Asegurado_Id</th>\n",
       "      <th>FECHA_INICIO</th>\n",
       "      <th>FECHA_CANCELACION</th>\n",
       "      <th>FECHA_FIN</th>\n",
       "    </tr>\n",
       "  </thead>\n",
       "  <tbody>\n",
       "    <tr>\n",
       "      <th>0</th>\n",
       "      <td>16286173</td>\n",
       "      <td>125696117</td>\n",
       "      <td>2018/01/01</td>\n",
       "      <td>2018/04/10</td>\n",
       "      <td>2018/04/10</td>\n",
       "    </tr>\n",
       "    <tr>\n",
       "      <th>1</th>\n",
       "      <td>11885152</td>\n",
       "      <td>141320760</td>\n",
       "      <td>2018/01/01</td>\n",
       "      <td>2019/12/31</td>\n",
       "      <td>NaN</td>\n",
       "    </tr>\n",
       "    <tr>\n",
       "      <th>2</th>\n",
       "      <td>763957</td>\n",
       "      <td>162532851</td>\n",
       "      <td>2018/01/01</td>\n",
       "      <td>2019/12/31</td>\n",
       "      <td>NaN</td>\n",
       "    </tr>\n",
       "    <tr>\n",
       "      <th>3</th>\n",
       "      <td>29082204</td>\n",
       "      <td>154620473</td>\n",
       "      <td>2018/01/01</td>\n",
       "      <td>2018/04/19</td>\n",
       "      <td>2018/04/19</td>\n",
       "    </tr>\n",
       "    <tr>\n",
       "      <th>4</th>\n",
       "      <td>4567640</td>\n",
       "      <td>93633862</td>\n",
       "      <td>2018/01/01</td>\n",
       "      <td>2019/12/31</td>\n",
       "      <td>NaN</td>\n",
       "    </tr>\n",
       "  </tbody>\n",
       "</table>\n",
       "</div>"
      ],
      "text/plain": [
       "   Asegurado_Id  Poliza_Asegurado_Id FECHA_INICIO FECHA_CANCELACION  \\\n",
       "0      16286173            125696117   2018/01/01        2018/04/10   \n",
       "1      11885152            141320760   2018/01/01        2019/12/31   \n",
       "2        763957            162532851   2018/01/01        2019/12/31   \n",
       "3      29082204            154620473   2018/01/01        2018/04/19   \n",
       "4       4567640             93633862   2018/01/01        2019/12/31   \n",
       "\n",
       "    FECHA_FIN  \n",
       "0  2018/04/10  \n",
       "1         NaN  \n",
       "2         NaN  \n",
       "3  2018/04/19  \n",
       "4         NaN  "
      ]
     },
     "metadata": {},
     "output_type": "display_data"
    },
    {
     "data": {
      "text/plain": [
       "'__________________________________________________________________________________________________________________________________'"
      ]
     },
     "metadata": {},
     "output_type": "display_data"
    },
    {
     "data": {
      "text/plain": [
       "'                                        Base de datos Sociodemográficos                                        '"
      ]
     },
     "metadata": {},
     "output_type": "display_data"
    },
    {
     "data": {
      "text/html": [
       "<div>\n",
       "<style scoped>\n",
       "    .dataframe tbody tr th:only-of-type {\n",
       "        vertical-align: middle;\n",
       "    }\n",
       "\n",
       "    .dataframe tbody tr th {\n",
       "        vertical-align: top;\n",
       "    }\n",
       "\n",
       "    .dataframe thead th {\n",
       "        text-align: right;\n",
       "    }\n",
       "</style>\n",
       "<table border=\"1\" class=\"dataframe\">\n",
       "  <thead>\n",
       "    <tr style=\"text-align: right;\">\n",
       "      <th></th>\n",
       "      <th>Asegurado_Id</th>\n",
       "      <th>Mujer</th>\n",
       "      <th>FechaNacimiento</th>\n",
       "      <th>Ciudad</th>\n",
       "      <th>CANCER</th>\n",
       "      <th>EPOC</th>\n",
       "      <th>DIABETES</th>\n",
       "      <th>HIPERTENSION</th>\n",
       "      <th>ENF_CARDIOVASCULAR</th>\n",
       "    </tr>\n",
       "  </thead>\n",
       "  <tbody>\n",
       "    <tr>\n",
       "      <th>0</th>\n",
       "      <td>18686469</td>\n",
       "      <td>1</td>\n",
       "      <td>17/01/1984</td>\n",
       "      <td>Bogota</td>\n",
       "      <td>0</td>\n",
       "      <td>0</td>\n",
       "      <td>0</td>\n",
       "      <td>0</td>\n",
       "      <td>0.0</td>\n",
       "    </tr>\n",
       "    <tr>\n",
       "      <th>1</th>\n",
       "      <td>16087775</td>\n",
       "      <td>0</td>\n",
       "      <td>12/03/1984</td>\n",
       "      <td>Medellin</td>\n",
       "      <td>0</td>\n",
       "      <td>0</td>\n",
       "      <td>0</td>\n",
       "      <td>0</td>\n",
       "      <td>0.0</td>\n",
       "    </tr>\n",
       "    <tr>\n",
       "      <th>2</th>\n",
       "      <td>35757761</td>\n",
       "      <td>1</td>\n",
       "      <td>19/12/1993</td>\n",
       "      <td>Bogota</td>\n",
       "      <td>0</td>\n",
       "      <td>0</td>\n",
       "      <td>0</td>\n",
       "      <td>0</td>\n",
       "      <td>0.0</td>\n",
       "    </tr>\n",
       "    <tr>\n",
       "      <th>3</th>\n",
       "      <td>48691460</td>\n",
       "      <td>0</td>\n",
       "      <td>14/11/2000</td>\n",
       "      <td>Bogota</td>\n",
       "      <td>0</td>\n",
       "      <td>0</td>\n",
       "      <td>0</td>\n",
       "      <td>0</td>\n",
       "      <td>0.0</td>\n",
       "    </tr>\n",
       "    <tr>\n",
       "      <th>4</th>\n",
       "      <td>36074099</td>\n",
       "      <td>1</td>\n",
       "      <td>6/08/2015</td>\n",
       "      <td>Cali</td>\n",
       "      <td>0</td>\n",
       "      <td>0</td>\n",
       "      <td>0</td>\n",
       "      <td>0</td>\n",
       "      <td>0.0</td>\n",
       "    </tr>\n",
       "  </tbody>\n",
       "</table>\n",
       "</div>"
      ],
      "text/plain": [
       "   Asegurado_Id  Mujer FechaNacimiento    Ciudad  CANCER  EPOC  DIABETES  \\\n",
       "0      18686469      1      17/01/1984    Bogota       0     0         0   \n",
       "1      16087775      0      12/03/1984  Medellin       0     0         0   \n",
       "2      35757761      1      19/12/1993    Bogota       0     0         0   \n",
       "3      48691460      0      14/11/2000    Bogota       0     0         0   \n",
       "4      36074099      1       6/08/2015      Cali       0     0         0   \n",
       "\n",
       "   HIPERTENSION  ENF_CARDIOVASCULAR  \n",
       "0             0                 0.0  \n",
       "1             0                 0.0  \n",
       "2             0                 0.0  \n",
       "3             0                 0.0  \n",
       "4             0                 0.0  "
      ]
     },
     "metadata": {},
     "output_type": "display_data"
    },
    {
     "data": {
      "text/plain": [
       "'__________________________________________________________________________________________________________________________________'"
      ]
     },
     "metadata": {},
     "output_type": "display_data"
    },
    {
     "data": {
      "text/plain": [
       "'                                                     Base de datos Siniestros                                                     '"
      ]
     },
     "metadata": {},
     "output_type": "display_data"
    },
    {
     "data": {
      "text/html": [
       "<div>\n",
       "<style scoped>\n",
       "    .dataframe tbody tr th:only-of-type {\n",
       "        vertical-align: middle;\n",
       "    }\n",
       "\n",
       "    .dataframe tbody tr th {\n",
       "        vertical-align: top;\n",
       "    }\n",
       "\n",
       "    .dataframe thead th {\n",
       "        text-align: right;\n",
       "    }\n",
       "</style>\n",
       "<table border=\"1\" class=\"dataframe\">\n",
       "  <thead>\n",
       "    <tr style=\"text-align: right;\">\n",
       "      <th></th>\n",
       "      <th>Mes_Pago</th>\n",
       "      <th>Asegurado_Id</th>\n",
       "      <th>Reclamacion</th>\n",
       "      <th>Diagnostico_Codigo</th>\n",
       "      <th>Diagnostico_Desc</th>\n",
       "      <th>Eventos</th>\n",
       "      <th>Valor_Pagado</th>\n",
       "    </tr>\n",
       "  </thead>\n",
       "  <tbody>\n",
       "    <tr>\n",
       "      <th>0</th>\n",
       "      <td>201803</td>\n",
       "      <td>4834968</td>\n",
       "      <td>EXAMENES DE DIAGNOSTICO</td>\n",
       "      <td>Z011</td>\n",
       "      <td>EXAMEN DE OÃDOS Y DE LA AUDICIÃN</td>\n",
       "      <td>1</td>\n",
       "      <td>4.953413e+05</td>\n",
       "    </tr>\n",
       "    <tr>\n",
       "      <th>1</th>\n",
       "      <td>201909</td>\n",
       "      <td>14915125</td>\n",
       "      <td>EXAMENES DE DIAGNOSTICO</td>\n",
       "      <td>9</td>\n",
       "      <td>DIAGNÃSTICO PENDIENTE</td>\n",
       "      <td>1</td>\n",
       "      <td>4.229947e+05</td>\n",
       "    </tr>\n",
       "    <tr>\n",
       "      <th>2</th>\n",
       "      <td>201807</td>\n",
       "      <td>42959949</td>\n",
       "      <td>EXAMENES DE DIAGNOSTICO</td>\n",
       "      <td>9</td>\n",
       "      <td>DIAGNÃSTICO PENDIENTE</td>\n",
       "      <td>1</td>\n",
       "      <td>1.085708e+06</td>\n",
       "    </tr>\n",
       "    <tr>\n",
       "      <th>3</th>\n",
       "      <td>201803</td>\n",
       "      <td>30540131</td>\n",
       "      <td>CONSULTA EXTERNA</td>\n",
       "      <td>9</td>\n",
       "      <td>DIAGNÃSTICO PENDIENTE</td>\n",
       "      <td>1</td>\n",
       "      <td>4.131626e+05</td>\n",
       "    </tr>\n",
       "    <tr>\n",
       "      <th>4</th>\n",
       "      <td>201905</td>\n",
       "      <td>21442420</td>\n",
       "      <td>LABORATORIO CLINICO</td>\n",
       "      <td>9</td>\n",
       "      <td>DIAGNÃSTICO PENDIENTE</td>\n",
       "      <td>18</td>\n",
       "      <td>1.093855e+06</td>\n",
       "    </tr>\n",
       "  </tbody>\n",
       "</table>\n",
       "</div>"
      ],
      "text/plain": [
       "   Mes_Pago  Asegurado_Id              Reclamacion Diagnostico_Codigo  \\\n",
       "0    201803       4834968  EXAMENES DE DIAGNOSTICO               Z011   \n",
       "1    201909      14915125  EXAMENES DE DIAGNOSTICO                  9   \n",
       "2    201807      42959949  EXAMENES DE DIAGNOSTICO                  9   \n",
       "3    201803      30540131         CONSULTA EXTERNA                  9   \n",
       "4    201905      21442420      LABORATORIO CLINICO                  9   \n",
       "\n",
       "                     Diagnostico_Desc  Eventos  Valor_Pagado  \n",
       "0  EXAMEN DE OÃDOS Y DE LA AUDICIÃN        1  4.953413e+05  \n",
       "1              DIAGNÃSTICO PENDIENTE        1  4.229947e+05  \n",
       "2              DIAGNÃSTICO PENDIENTE        1  1.085708e+06  \n",
       "3              DIAGNÃSTICO PENDIENTE        1  4.131626e+05  \n",
       "4              DIAGNÃSTICO PENDIENTE       18  1.093855e+06  "
      ]
     },
     "metadata": {},
     "output_type": "display_data"
    }
   ],
   "source": [
    "# Vista inicial de los datos \n",
    "display('_'*130)\n",
    "display(f'{\" \"*29}Base de datos Expuestos{\" \"*29}')\n",
    "display(expuestos.head(5))\n",
    "display('_'*130)\n",
    "display(f'{\" \"*40}Base de datos Sociodemográficos{\" \"*40}')\n",
    "display(sociodemograficas.head(5))\n",
    "display('_'*130)\n",
    "display(f'{\" \"*53}Base de datos Siniestros{\" \"*53}')\n",
    "display(siniestros.head(5))"
   ]
  },
  {
   "cell_type": "code",
   "execution_count": 4,
   "metadata": {},
   "outputs": [
    {
     "data": {
      "text/plain": [
       "'La base de datos expuestos tiene 300900 observaciones y 5 variables'"
      ]
     },
     "metadata": {},
     "output_type": "display_data"
    },
    {
     "data": {
      "text/plain": [
       "'La base de datos sociodemográficos tiene 267312 observaciones y 9 variables'"
      ]
     },
     "metadata": {},
     "output_type": "display_data"
    },
    {
     "data": {
      "text/plain": [
       "'La base de datos siniestros tiene 3308480 observaciones y 7 variables'"
      ]
     },
     "metadata": {},
     "output_type": "display_data"
    }
   ],
   "source": [
    "# Observaciones y variables para cada base de daatos\n",
    "display(f'La base de datos expuestos tiene {expuestos.shape[0]} observaciones y {expuestos.shape[1]} variables')\n",
    "display(f'La base de datos sociodemográficos tiene {sociodemograficas.shape[0]} observaciones y {sociodemograficas.shape[1]} variables')\n",
    "display(f'La base de datos siniestros tiene {siniestros.shape[0]} observaciones y {siniestros.shape[1]} variables')"
   ]
  },
  {
   "cell_type": "code",
   "execution_count": 5,
   "metadata": {},
   "outputs": [
    {
     "data": {
      "text/plain": [
       "'Asegurados únicos en los datos expuestos: 267233'"
      ]
     },
     "metadata": {},
     "output_type": "display_data"
    },
    {
     "data": {
      "text/plain": [
       "'Asegurados únicos en los datos sociodemográficos: 267233'"
      ]
     },
     "metadata": {},
     "output_type": "display_data"
    },
    {
     "data": {
      "text/plain": [
       "'Asegurados únicos en los datos siniestros: 237167'"
      ]
     },
     "metadata": {},
     "output_type": "display_data"
    }
   ],
   "source": [
    "# Asegurados únicos para cada base de datos\n",
    "display(f'Asegurados únicos en los datos expuestos: {len(expuestos[\"Asegurado_Id\"].unique())}')\n",
    "display(f'Asegurados únicos en los datos sociodemográficos: {len(sociodemograficas[\"Asegurado_Id\"].unique())}')\n",
    "display(f'Asegurados únicos en los datos siniestros: {len(siniestros[\"Asegurado_Id\"].unique())}')\n"
   ]
  },
  {
   "cell_type": "markdown",
   "metadata": {},
   "source": [
    "### Valores nulos en los datos"
   ]
  },
  {
   "cell_type": "code",
   "execution_count": 29,
   "metadata": {},
   "outputs": [
    {
     "data": {
      "text/plain": [
       "'_______________________________'"
      ]
     },
     "metadata": {},
     "output_type": "display_data"
    },
    {
     "data": {
      "text/plain": [
       "' Nulos datos Expuestos '"
      ]
     },
     "metadata": {},
     "output_type": "display_data"
    },
    {
     "data": {
      "text/plain": [
       "Asegurado_Id                0\n",
       "Poliza_Asegurado_Id         0\n",
       "FECHA_INICIO                0\n",
       "FECHA_CANCELACION           0\n",
       "FECHA_FIN              148937\n",
       "dtype: int64"
      ]
     },
     "metadata": {},
     "output_type": "display_data"
    },
    {
     "data": {
      "text/plain": [
       "'_______________________________'"
      ]
     },
     "metadata": {},
     "output_type": "display_data"
    },
    {
     "data": {
      "text/plain": [
       "' Nulos datos Sociodemográficos '"
      ]
     },
     "metadata": {},
     "output_type": "display_data"
    },
    {
     "data": {
      "text/plain": [
       "Asegurado_Id          0\n",
       "Mujer                 0\n",
       "FechaNacimiento       0\n",
       "Ciudad                0\n",
       "CANCER                0\n",
       "EPOC                  0\n",
       "DIABETES              0\n",
       "HIPERTENSION          0\n",
       "ENF_CARDIOVASCULAR    1\n",
       "dtype: int64"
      ]
     },
     "metadata": {},
     "output_type": "display_data"
    },
    {
     "data": {
      "text/plain": [
       "'_______________________________'"
      ]
     },
     "metadata": {},
     "output_type": "display_data"
    },
    {
     "data": {
      "text/plain": [
       "' Nulos datos Siniestros '"
      ]
     },
     "metadata": {},
     "output_type": "display_data"
    },
    {
     "data": {
      "text/plain": [
       "Mes_Pago              0\n",
       "Asegurado_Id          0\n",
       "Reclamacion           0\n",
       "Diagnostico_Codigo    0\n",
       "Diagnostico_Desc      0\n",
       "Eventos               0\n",
       "Valor_Pagado          0\n",
       "dtype: int64"
      ]
     },
     "metadata": {},
     "output_type": "display_data"
    }
   ],
   "source": [
    "# Valores nulos para cada una de las bases de datos \n",
    "display('_'*31)\n",
    "display(f'{\" \"*1}Nulos datos Expuestos{\" \"*1}')\n",
    "display(expuestos.isnull().sum())\n",
    "display('_'*31)\n",
    "display(f'{\" \"*1}Nulos datos Sociodemográficos{\" \"*1}')\n",
    "display(sociodemograficas.isnull().sum())\n",
    "display('_'*31)\n",
    "display(f'{\" \"*1}Nulos datos Siniestros{\" \"*1}')\n",
    "display(siniestros.isnull().sum())"
   ]
  },
  {
   "cell_type": "markdown",
   "metadata": {},
   "source": [
    "### Valores duplicados en los datos"
   ]
  },
  {
   "cell_type": "code",
   "execution_count": 33,
   "metadata": {},
   "outputs": [
    {
     "data": {
      "text/plain": [
       "'Valores duplicados de la tabla expuestos: 0'"
      ]
     },
     "metadata": {},
     "output_type": "display_data"
    },
    {
     "data": {
      "text/plain": [
       "'Valores duplicados de la tabla sociondemográficos:  0'"
      ]
     },
     "metadata": {},
     "output_type": "display_data"
    },
    {
     "data": {
      "text/plain": [
       "'Valores duplicados de la tabla siniestros: 0'"
      ]
     },
     "metadata": {},
     "output_type": "display_data"
    }
   ],
   "source": [
    "# Vallores duplicados para cada una de las bases de datos\n",
    "display(f'Valores duplicados de la tabla expuestos: {expuestos.duplicated().sum()}')\n",
    "display(f'Valores duplicados de la tabla sociondemográficos:  {sociodemograficas.duplicated().sum()}')\n",
    "display(f'Valores duplicados de la tabla siniestros: {siniestros.duplicated().sum()}')"
   ]
  },
  {
   "cell_type": "code",
   "execution_count": 48,
   "metadata": {},
   "outputs": [
    {
     "data": {
      "image/png": "[encoded data removed]",
      "text/plain": [
       "<Figure size 640x480 with 1 Axes>"
      ]
     },
     "metadata": {},
     "output_type": "display_data"
    }
   ],
   "source": [
    "c1 = sociodemograficas[['CANCER','EPOC', 'DIABETES', 'HIPERTENSION', 'ENF_CARDIOVASCULAR']].sum()\n",
    "sns.barplot(c1)\n",
    "plt.title('Cantidad de personas por enfermedades')\n",
    "plt.ylabel('Cantidad')\n",
    "plt.xticks(rotation = 8)\n",
    "plt.show()"
   ]
  }
 ],
 "metadata": {
  "kernelspec": {
   "display_name": "Python 3",
   "language": "python",
   "name": "python3"
  },
  "language_info": {
   "codemirror_mode": {
    "name": "ipython",
    "version": 3
   },
   "file_extension": ".py",
   "mimetype": "text/x-python",
   "name": "python",
   "nbconvert_exporter": "python",
   "pygments_lexer": "ipython3",
   "version": "3.11.5"
  }
 },
 "nbformat": 4,
 "nbformat_minor": 2
}
