{
 "cells": [
  {
   "cell_type": "markdown",
   "metadata": {},
   "source": [
    "## Análisis de los datos inciales"
   ]
  },
  {
   "cell_type": "code",
   "execution_count": 90,
   "metadata": {},
   "outputs": [],
   "source": [
    "# Librerias necesarias \n",
    "import pandas as pd "
   ]
  },
  {
   "cell_type": "code",
   "execution_count": 86,
   "metadata": {},
   "outputs": [],
   "source": [
    "# Leer los datos\n",
    "expuestos = pd.read_csv('Data\\BD_Expuestos.txt', sep = '\\s+', encoding = 'latin-1')\n",
    "sociodemograficas = pd.read_csv('Data\\BD_Sociodemograficas.txt', sep = '\\s+', encoding = 'latin-1')"
   ]
  },
  {
   "cell_type": "code",
   "execution_count": 87,
   "metadata": {},
   "outputs": [
    {
     "data": {
      "text/plain": [
       "'_________________________________________________________________________________________________________________'"
      ]
     },
     "metadata": {},
     "output_type": "display_data"
    },
    {
     "data": {
      "text/plain": [
       "'                             Base de datos Expuestos                             '"
      ]
     },
     "metadata": {},
     "output_type": "display_data"
    },
    {
     "data": {
      "text/html": [
       "<div>\n",
       "<style scoped>\n",
       "    .dataframe tbody tr th:only-of-type {\n",
       "        vertical-align: middle;\n",
       "    }\n",
       "\n",
       "    .dataframe tbody tr th {\n",
       "        vertical-align: top;\n",
       "    }\n",
       "\n",
       "    .dataframe thead th {\n",
       "        text-align: right;\n",
       "    }\n",
       "</style>\n",
       "<table border=\"1\" class=\"dataframe\">\n",
       "  <thead>\n",
       "    <tr style=\"text-align: right;\">\n",
       "      <th></th>\n",
       "      <th>Asegurado_Id</th>\n",
       "      <th>Poliza_Asegurado_Id</th>\n",
       "      <th>FECHA_INICIO</th>\n",
       "      <th>FECHA_CANCELACION</th>\n",
       "      <th>FECHA_FIN</th>\n",
       "    </tr>\n",
       "  </thead>\n",
       "  <tbody>\n",
       "    <tr>\n",
       "      <th>0</th>\n",
       "      <td>16286173</td>\n",
       "      <td>125696117</td>\n",
       "      <td>2018/01/01</td>\n",
       "      <td>2018/04/10</td>\n",
       "      <td>2018/04/10</td>\n",
       "    </tr>\n",
       "    <tr>\n",
       "      <th>1</th>\n",
       "      <td>11885152</td>\n",
       "      <td>141320760</td>\n",
       "      <td>2018/01/01</td>\n",
       "      <td>2019/12/31</td>\n",
       "      <td>NaN</td>\n",
       "    </tr>\n",
       "    <tr>\n",
       "      <th>2</th>\n",
       "      <td>763957</td>\n",
       "      <td>162532851</td>\n",
       "      <td>2018/01/01</td>\n",
       "      <td>2019/12/31</td>\n",
       "      <td>NaN</td>\n",
       "    </tr>\n",
       "    <tr>\n",
       "      <th>3</th>\n",
       "      <td>29082204</td>\n",
       "      <td>154620473</td>\n",
       "      <td>2018/01/01</td>\n",
       "      <td>2018/04/19</td>\n",
       "      <td>2018/04/19</td>\n",
       "    </tr>\n",
       "    <tr>\n",
       "      <th>4</th>\n",
       "      <td>4567640</td>\n",
       "      <td>93633862</td>\n",
       "      <td>2018/01/01</td>\n",
       "      <td>2019/12/31</td>\n",
       "      <td>NaN</td>\n",
       "    </tr>\n",
       "  </tbody>\n",
       "</table>\n",
       "</div>"
      ],
      "text/plain": [
       "   Asegurado_Id  Poliza_Asegurado_Id FECHA_INICIO FECHA_CANCELACION  \\\n",
       "0      16286173            125696117   2018/01/01        2018/04/10   \n",
       "1      11885152            141320760   2018/01/01        2019/12/31   \n",
       "2        763957            162532851   2018/01/01        2019/12/31   \n",
       "3      29082204            154620473   2018/01/01        2018/04/19   \n",
       "4       4567640             93633862   2018/01/01        2019/12/31   \n",
       "\n",
       "    FECHA_FIN  \n",
       "0  2018/04/10  \n",
       "1         NaN  \n",
       "2         NaN  \n",
       "3  2018/04/19  \n",
       "4         NaN  "
      ]
     },
     "metadata": {},
     "output_type": "display_data"
    },
    {
     "data": {
      "text/plain": [
       "'_________________________________________________________________________________________________________________'"
      ]
     },
     "metadata": {},
     "output_type": "display_data"
    },
    {
     "data": {
      "text/plain": [
       "'                                        Base de datos Sociodemográficos                                        '"
      ]
     },
     "metadata": {},
     "output_type": "display_data"
    },
    {
     "data": {
      "text/html": [
       "<div>\n",
       "<style scoped>\n",
       "    .dataframe tbody tr th:only-of-type {\n",
       "        vertical-align: middle;\n",
       "    }\n",
       "\n",
       "    .dataframe tbody tr th {\n",
       "        vertical-align: top;\n",
       "    }\n",
       "\n",
       "    .dataframe thead th {\n",
       "        text-align: right;\n",
       "    }\n",
       "</style>\n",
       "<table border=\"1\" class=\"dataframe\">\n",
       "  <thead>\n",
       "    <tr style=\"text-align: right;\">\n",
       "      <th></th>\n",
       "      <th>Asegurado_Id</th>\n",
       "      <th>Mujer</th>\n",
       "      <th>FechaNacimiento</th>\n",
       "      <th>Ciudad</th>\n",
       "      <th>CANCER</th>\n",
       "      <th>EPOC</th>\n",
       "      <th>DIABETES</th>\n",
       "      <th>HIPERTENSION</th>\n",
       "      <th>ENF_CARDIOVASCULAR</th>\n",
       "    </tr>\n",
       "  </thead>\n",
       "  <tbody>\n",
       "    <tr>\n",
       "      <th>0</th>\n",
       "      <td>18686469</td>\n",
       "      <td>1</td>\n",
       "      <td>17/01/1984</td>\n",
       "      <td>Bogota</td>\n",
       "      <td>0</td>\n",
       "      <td>0</td>\n",
       "      <td>0</td>\n",
       "      <td>0</td>\n",
       "      <td>0.0</td>\n",
       "    </tr>\n",
       "    <tr>\n",
       "      <th>1</th>\n",
       "      <td>16087775</td>\n",
       "      <td>0</td>\n",
       "      <td>12/03/1984</td>\n",
       "      <td>Medellin</td>\n",
       "      <td>0</td>\n",
       "      <td>0</td>\n",
       "      <td>0</td>\n",
       "      <td>0</td>\n",
       "      <td>0.0</td>\n",
       "    </tr>\n",
       "    <tr>\n",
       "      <th>2</th>\n",
       "      <td>35757761</td>\n",
       "      <td>1</td>\n",
       "      <td>19/12/1993</td>\n",
       "      <td>Bogota</td>\n",
       "      <td>0</td>\n",
       "      <td>0</td>\n",
       "      <td>0</td>\n",
       "      <td>0</td>\n",
       "      <td>0.0</td>\n",
       "    </tr>\n",
       "    <tr>\n",
       "      <th>3</th>\n",
       "      <td>48691460</td>\n",
       "      <td>0</td>\n",
       "      <td>14/11/2000</td>\n",
       "      <td>Bogota</td>\n",
       "      <td>0</td>\n",
       "      <td>0</td>\n",
       "      <td>0</td>\n",
       "      <td>0</td>\n",
       "      <td>0.0</td>\n",
       "    </tr>\n",
       "    <tr>\n",
       "      <th>4</th>\n",
       "      <td>36074099</td>\n",
       "      <td>1</td>\n",
       "      <td>6/08/2015</td>\n",
       "      <td>Cali</td>\n",
       "      <td>0</td>\n",
       "      <td>0</td>\n",
       "      <td>0</td>\n",
       "      <td>0</td>\n",
       "      <td>0.0</td>\n",
       "    </tr>\n",
       "  </tbody>\n",
       "</table>\n",
       "</div>"
      ],
      "text/plain": [
       "   Asegurado_Id  Mujer FechaNacimiento    Ciudad  CANCER  EPOC  DIABETES  \\\n",
       "0      18686469      1      17/01/1984    Bogota       0     0         0   \n",
       "1      16087775      0      12/03/1984  Medellin       0     0         0   \n",
       "2      35757761      1      19/12/1993    Bogota       0     0         0   \n",
       "3      48691460      0      14/11/2000    Bogota       0     0         0   \n",
       "4      36074099      1       6/08/2015      Cali       0     0         0   \n",
       "\n",
       "   HIPERTENSION  ENF_CARDIOVASCULAR  \n",
       "0             0                 0.0  \n",
       "1             0                 0.0  \n",
       "2             0                 0.0  \n",
       "3             0                 0.0  \n",
       "4             0                 0.0  "
      ]
     },
     "metadata": {},
     "output_type": "display_data"
    },
    {
     "data": {
      "text/plain": [
       "'_________________________________________________________________________________________________________________'"
      ]
     },
     "metadata": {},
     "output_type": "display_data"
    },
    {
     "data": {
      "text/plain": [
       "'                                        Base de datos Siniestros                                        '"
      ]
     },
     "metadata": {},
     "output_type": "display_data"
    }
   ],
   "source": [
    "# Vista inicial de los datos \n",
    "display('_'*113)\n",
    "display(f'{\" \"*29}Base de datos Expuestos{\" \"*29}')\n",
    "display(expuestos.head(5))\n",
    "display('_'*113)\n",
    "display(f'{\" \"*40}Base de datos Sociodemográficos{\" \"*40}')\n",
    "display(sociodemograficas.head(5))\n",
    "display('_'*113)\n",
    "display(f'{\" \"*40}Base de datos Siniestros{\" \"*40}')"
   ]
  },
  {
   "cell_type": "code",
   "execution_count": 88,
   "metadata": {},
   "outputs": [
    {
     "data": {
      "text/plain": [
       "'La base de datos expuestos tiene 300900 observaciones y 5 variables'"
      ]
     },
     "metadata": {},
     "output_type": "display_data"
    },
    {
     "data": {
      "text/plain": [
       "'La base de datos sociodemográficos tiene 267312 observaciones y 9 variables'"
      ]
     },
     "metadata": {},
     "output_type": "display_data"
    }
   ],
   "source": [
    "# Observaciones y variables para cada base de daatos\n",
    "display(f'La base de datos expuestos tiene {expuestos.shape[0]} observaciones y {expuestos.shape[1]} variables')\n",
    "display(f'La base de datos sociodemográficos tiene {sociodemograficas.shape[0]} observaciones y {sociodemograficas.shape[1]} variables')"
   ]
  },
  {
   "cell_type": "code",
   "execution_count": 89,
   "metadata": {},
   "outputs": [
    {
     "data": {
      "text/plain": [
       "'Asegurados únicos en los datos expuestos: 267233'"
      ]
     },
     "metadata": {},
     "output_type": "display_data"
    },
    {
     "data": {
      "text/plain": [
       "'Asegurados únicos en los datos sociodemográficos: 267233'"
      ]
     },
     "metadata": {},
     "output_type": "display_data"
    }
   ],
   "source": [
    "# Asegurados únicos para cada base de datos\n",
    "display(f'Asegurados únicos en los datos expuestos: {len(expuestos[\"Asegurado_Id\"].unique())}')\n",
    "display(f'Asegurados únicos en los datos sociodemográficos: {len(sociodemograficas[\"Asegurado_Id\"].unique())}')"
   ]
  }
 ],
 "metadata": {
  "kernelspec": {
   "display_name": "Python 3",
   "language": "python",
   "name": "python3"
  },
  "language_info": {
   "codemirror_mode": {
    "name": "ipython",
    "version": 3
   },
   "file_extension": ".py",
   "mimetype": "text/x-python",
   "name": "python",
   "nbconvert_exporter": "python",
   "pygments_lexer": "ipython3",
   "version": "3.11.5"
  }
 },
 "nbformat": 4,
 "nbformat_minor": 2
}
